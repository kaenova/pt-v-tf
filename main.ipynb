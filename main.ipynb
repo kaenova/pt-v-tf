{
 "cells": [
  {
   "cell_type": "code",
   "execution_count": 1,
   "id": "7d785c99-52f8-4a6c-a2db-23c0c9759898",
   "metadata": {
    "tags": []
   },
   "outputs": [],
   "source": [
    "# Import Library\n",
    "\n",
    "import torchmetrics\n",
    "import pandas as pd\n",
    "import tensorflow as tf\n",
    "import numpy as np\n",
    "\n",
    "import torch\n",
    "import torch.nn as nn\n",
    "import torch.nn.functional as F\n",
    "\n",
    "from sklearn.model_selection import train_test_split"
   ]
  },
  {
   "cell_type": "code",
   "execution_count": 2,
   "id": "03108e47-edcd-4114-99da-69a809b2bbd7",
   "metadata": {
    "tags": []
   },
   "outputs": [
    {
     "data": {
      "text/html": [
       "<div>\n",
       "<style scoped>\n",
       "    .dataframe tbody tr th:only-of-type {\n",
       "        vertical-align: middle;\n",
       "    }\n",
       "\n",
       "    .dataframe tbody tr th {\n",
       "        vertical-align: top;\n",
       "    }\n",
       "\n",
       "    .dataframe thead th {\n",
       "        text-align: right;\n",
       "    }\n",
       "</style>\n",
       "<table border=\"1\" class=\"dataframe\">\n",
       "  <thead>\n",
       "    <tr style=\"text-align: right;\">\n",
       "      <th></th>\n",
       "      <th>Number of times pregnant</th>\n",
       "      <th>Plasma glucose concentration</th>\n",
       "      <th>Diastolic blood pressure</th>\n",
       "      <th>Triceps skin fold thickness</th>\n",
       "      <th>2-Hour serum insulin</th>\n",
       "      <th>Body mass index</th>\n",
       "      <th>Age</th>\n",
       "      <th>Class</th>\n",
       "    </tr>\n",
       "  </thead>\n",
       "  <tbody>\n",
       "    <tr>\n",
       "      <th>0</th>\n",
       "      <td>6</td>\n",
       "      <td>148</td>\n",
       "      <td>72</td>\n",
       "      <td>35</td>\n",
       "      <td>0</td>\n",
       "      <td>33.6</td>\n",
       "      <td>50</td>\n",
       "      <td>positive</td>\n",
       "    </tr>\n",
       "    <tr>\n",
       "      <th>1</th>\n",
       "      <td>1</td>\n",
       "      <td>85</td>\n",
       "      <td>66</td>\n",
       "      <td>29</td>\n",
       "      <td>0</td>\n",
       "      <td>26.6</td>\n",
       "      <td>31</td>\n",
       "      <td>negative</td>\n",
       "    </tr>\n",
       "    <tr>\n",
       "      <th>2</th>\n",
       "      <td>8</td>\n",
       "      <td>183</td>\n",
       "      <td>64</td>\n",
       "      <td>0</td>\n",
       "      <td>0</td>\n",
       "      <td>23.3</td>\n",
       "      <td>32</td>\n",
       "      <td>positive</td>\n",
       "    </tr>\n",
       "    <tr>\n",
       "      <th>3</th>\n",
       "      <td>1</td>\n",
       "      <td>89</td>\n",
       "      <td>66</td>\n",
       "      <td>23</td>\n",
       "      <td>94</td>\n",
       "      <td>28.1</td>\n",
       "      <td>21</td>\n",
       "      <td>negative</td>\n",
       "    </tr>\n",
       "    <tr>\n",
       "      <th>4</th>\n",
       "      <td>0</td>\n",
       "      <td>137</td>\n",
       "      <td>40</td>\n",
       "      <td>35</td>\n",
       "      <td>168</td>\n",
       "      <td>43.1</td>\n",
       "      <td>33</td>\n",
       "      <td>positive</td>\n",
       "    </tr>\n",
       "    <tr>\n",
       "      <th>...</th>\n",
       "      <td>...</td>\n",
       "      <td>...</td>\n",
       "      <td>...</td>\n",
       "      <td>...</td>\n",
       "      <td>...</td>\n",
       "      <td>...</td>\n",
       "      <td>...</td>\n",
       "      <td>...</td>\n",
       "    </tr>\n",
       "    <tr>\n",
       "      <th>763</th>\n",
       "      <td>10</td>\n",
       "      <td>101</td>\n",
       "      <td>76</td>\n",
       "      <td>48</td>\n",
       "      <td>180</td>\n",
       "      <td>32.9</td>\n",
       "      <td>63</td>\n",
       "      <td>negative</td>\n",
       "    </tr>\n",
       "    <tr>\n",
       "      <th>764</th>\n",
       "      <td>2</td>\n",
       "      <td>122</td>\n",
       "      <td>70</td>\n",
       "      <td>27</td>\n",
       "      <td>0</td>\n",
       "      <td>36.8</td>\n",
       "      <td>27</td>\n",
       "      <td>negative</td>\n",
       "    </tr>\n",
       "    <tr>\n",
       "      <th>765</th>\n",
       "      <td>5</td>\n",
       "      <td>121</td>\n",
       "      <td>72</td>\n",
       "      <td>23</td>\n",
       "      <td>112</td>\n",
       "      <td>26.2</td>\n",
       "      <td>30</td>\n",
       "      <td>negative</td>\n",
       "    </tr>\n",
       "    <tr>\n",
       "      <th>766</th>\n",
       "      <td>1</td>\n",
       "      <td>126</td>\n",
       "      <td>60</td>\n",
       "      <td>0</td>\n",
       "      <td>0</td>\n",
       "      <td>30.1</td>\n",
       "      <td>47</td>\n",
       "      <td>positive</td>\n",
       "    </tr>\n",
       "    <tr>\n",
       "      <th>767</th>\n",
       "      <td>1</td>\n",
       "      <td>93</td>\n",
       "      <td>70</td>\n",
       "      <td>31</td>\n",
       "      <td>0</td>\n",
       "      <td>30.4</td>\n",
       "      <td>23</td>\n",
       "      <td>negative</td>\n",
       "    </tr>\n",
       "  </tbody>\n",
       "</table>\n",
       "<p>768 rows × 8 columns</p>\n",
       "</div>"
      ],
      "text/plain": [
       "     Number of times pregnant  Plasma glucose concentration   \n",
       "0                           6                           148  \\\n",
       "1                           1                            85   \n",
       "2                           8                           183   \n",
       "3                           1                            89   \n",
       "4                           0                           137   \n",
       "..                        ...                           ...   \n",
       "763                        10                           101   \n",
       "764                         2                           122   \n",
       "765                         5                           121   \n",
       "766                         1                           126   \n",
       "767                         1                            93   \n",
       "\n",
       "     Diastolic blood pressure  Triceps skin fold thickness   \n",
       "0                          72                           35  \\\n",
       "1                          66                           29   \n",
       "2                          64                            0   \n",
       "3                          66                           23   \n",
       "4                          40                           35   \n",
       "..                        ...                          ...   \n",
       "763                        76                           48   \n",
       "764                        70                           27   \n",
       "765                        72                           23   \n",
       "766                        60                            0   \n",
       "767                        70                           31   \n",
       "\n",
       "     2-Hour serum insulin  Body mass index  Age     Class  \n",
       "0                       0             33.6   50  positive  \n",
       "1                       0             26.6   31  negative  \n",
       "2                       0             23.3   32  positive  \n",
       "3                      94             28.1   21  negative  \n",
       "4                     168             43.1   33  positive  \n",
       "..                    ...              ...  ...       ...  \n",
       "763                   180             32.9   63  negative  \n",
       "764                     0             36.8   27  negative  \n",
       "765                   112             26.2   30  negative  \n",
       "766                     0             30.1   47  positive  \n",
       "767                     0             30.4   23  negative  \n",
       "\n",
       "[768 rows x 8 columns]"
      ]
     },
     "execution_count": 2,
     "metadata": {},
     "output_type": "execute_result"
    }
   ],
   "source": [
    "# Import Data and Pre-Processing\n",
    "df = pd.read_csv(\"diabetes.csv\")\n",
    "df"
   ]
  },
  {
   "cell_type": "code",
   "execution_count": 3,
   "id": "b872b047-90b7-4cf9-aff9-6a88bb1f497c",
   "metadata": {
    "tags": []
   },
   "outputs": [
    {
     "data": {
      "text/plain": [
       "array(['positive', 'negative'], dtype=object)"
      ]
     },
     "execution_count": 3,
     "metadata": {},
     "output_type": "execute_result"
    }
   ],
   "source": [
    "## Benerin kolom \"Class\"\n",
    "df[\"Class\"].unique()"
   ]
  },
  {
   "cell_type": "code",
   "execution_count": 4,
   "id": "8d5d6f45-7092-4309-a1ac-00e666e0aa94",
   "metadata": {
    "tags": []
   },
   "outputs": [],
   "source": [
    "map_class = {\n",
    "    \"positive\": 1,\n",
    "    \"negative\": 0\n",
    "}\n",
    "\n",
    "df[\"Class\"] = df[\"Class\"].map(lambda x: map_class[x])"
   ]
  },
  {
   "cell_type": "code",
   "execution_count": 5,
   "id": "9d0f014a-7677-434e-9539-b979f70ebd2d",
   "metadata": {},
   "outputs": [],
   "source": [
    "X = df.drop(columns=[\"Class\"])\n",
    "y = df[\"Class\"]\n",
    "X_train, X_test, y_train, y_test = train_test_split(X, y, test_size=0.33, random_state=42)"
   ]
  },
  {
   "cell_type": "code",
   "execution_count": 6,
   "id": "d3489585-3307-4b37-bb62-b9b0f94f3fc4",
   "metadata": {
    "tags": []
   },
   "outputs": [
    {
     "data": {
      "text/plain": [
       "(768, 7)"
      ]
     },
     "execution_count": 6,
     "metadata": {},
     "output_type": "execute_result"
    }
   ],
   "source": [
    "X.shape"
   ]
  },
  {
   "cell_type": "code",
   "execution_count": 7,
   "id": "90796799-5af0-4c24-a887-8b5c7fe88735",
   "metadata": {},
   "outputs": [
    {
     "data": {
      "text/plain": [
       "<tf.Tensor: shape=(1, 1), dtype=float32, numpy=array([[5.9608703]], dtype=float32)>"
      ]
     },
     "execution_count": 7,
     "metadata": {},
     "output_type": "execute_result"
    }
   ],
   "source": [
    "# Modelling\n",
    "tf.keras.backend.clear_session()\n",
    "\n",
    "model = tf.keras.Sequential([\n",
    "    tf.keras.layers.Dense(64, activation=\"relu\", input_shape=(7,)),\n",
    "    tf.keras.layers.Dense(32, activation=\"relu\"),\n",
    "    tf.keras.layers.Dense(16, activation=\"relu\"),\n",
    "    tf.keras.layers.Dense(1),\n",
    "])\n",
    "model(X[:1].values)"
   ]
  },
  {
   "cell_type": "code",
   "execution_count": 8,
   "id": "eb4aa642-2ba8-47f6-8c76-527893cbc3d2",
   "metadata": {
    "tags": []
   },
   "outputs": [],
   "source": [
    "bce = tf.keras.losses.BinaryCrossentropy(from_logits=True)\n",
    "\n",
    "optimizer = tf.keras.optimizers.Adam(\n",
    "    learning_rate=1e-3\n",
    ")\n",
    "\n",
    "model.compile(\n",
    "    loss=bce,\n",
    "    optimizer=optimizer,\n",
    "    metrics=[\"accuracy\"]\n",
    ")"
   ]
  },
  {
   "cell_type": "code",
   "execution_count": 9,
   "id": "c9d2cd1b-ce9d-4757-9c39-ba721b56d9cb",
   "metadata": {
    "tags": []
   },
   "outputs": [
    {
     "name": "stdout",
     "output_type": "stream",
     "text": [
      "Epoch 1/30\n",
      "17/17 [==============================] - 1s 11ms/step - loss: 1.5904 - accuracy: 0.5253 - val_loss: 0.9607 - val_accuracy: 0.6693\n",
      "Epoch 2/30\n",
      "17/17 [==============================] - 0s 3ms/step - loss: 1.0616 - accuracy: 0.6401 - val_loss: 0.7907 - val_accuracy: 0.5984\n",
      "Epoch 3/30\n",
      "17/17 [==============================] - 0s 3ms/step - loss: 1.0065 - accuracy: 0.6459 - val_loss: 0.9642 - val_accuracy: 0.6102\n",
      "Epoch 4/30\n",
      "17/17 [==============================] - 0s 3ms/step - loss: 0.7514 - accuracy: 0.6498 - val_loss: 0.6677 - val_accuracy: 0.6614\n",
      "Epoch 5/30\n",
      "17/17 [==============================] - 0s 3ms/step - loss: 0.6247 - accuracy: 0.6868 - val_loss: 0.6423 - val_accuracy: 0.7087\n",
      "Epoch 6/30\n",
      "17/17 [==============================] - 0s 3ms/step - loss: 0.6247 - accuracy: 0.6926 - val_loss: 0.8023 - val_accuracy: 0.6732\n",
      "Epoch 7/30\n",
      "17/17 [==============================] - 0s 3ms/step - loss: 0.7108 - accuracy: 0.6790 - val_loss: 0.7401 - val_accuracy: 0.6614\n",
      "Epoch 8/30\n",
      "17/17 [==============================] - 0s 3ms/step - loss: 0.6202 - accuracy: 0.7023 - val_loss: 0.6425 - val_accuracy: 0.6654\n",
      "Epoch 9/30\n",
      "17/17 [==============================] - 0s 3ms/step - loss: 0.5988 - accuracy: 0.7023 - val_loss: 0.7213 - val_accuracy: 0.6811\n",
      "Epoch 10/30\n",
      "17/17 [==============================] - 0s 3ms/step - loss: 0.6702 - accuracy: 0.6595 - val_loss: 0.6084 - val_accuracy: 0.7244\n",
      "Epoch 11/30\n",
      "17/17 [==============================] - 0s 3ms/step - loss: 0.5946 - accuracy: 0.7043 - val_loss: 0.6857 - val_accuracy: 0.6929\n",
      "Epoch 12/30\n",
      "17/17 [==============================] - 0s 3ms/step - loss: 0.6008 - accuracy: 0.6848 - val_loss: 0.6560 - val_accuracy: 0.6811\n",
      "Epoch 13/30\n",
      "17/17 [==============================] - 0s 3ms/step - loss: 0.5921 - accuracy: 0.6984 - val_loss: 0.6166 - val_accuracy: 0.7047\n",
      "Epoch 14/30\n",
      "17/17 [==============================] - 0s 3ms/step - loss: 0.5882 - accuracy: 0.6965 - val_loss: 0.6215 - val_accuracy: 0.6969\n",
      "Epoch 15/30\n",
      "17/17 [==============================] - 0s 3ms/step - loss: 0.5907 - accuracy: 0.6946 - val_loss: 0.6297 - val_accuracy: 0.6693\n",
      "Epoch 16/30\n",
      "17/17 [==============================] - 0s 3ms/step - loss: 0.7180 - accuracy: 0.6829 - val_loss: 0.6455 - val_accuracy: 0.6614\n",
      "Epoch 17/30\n",
      "17/17 [==============================] - 0s 3ms/step - loss: 0.5982 - accuracy: 0.6965 - val_loss: 0.6673 - val_accuracy: 0.7087\n",
      "Epoch 18/30\n",
      "17/17 [==============================] - 0s 3ms/step - loss: 0.5743 - accuracy: 0.7062 - val_loss: 0.6330 - val_accuracy: 0.7205\n",
      "Epoch 19/30\n",
      "17/17 [==============================] - 0s 3ms/step - loss: 0.6593 - accuracy: 0.6868 - val_loss: 0.7367 - val_accuracy: 0.6654\n",
      "Epoch 20/30\n",
      "17/17 [==============================] - 0s 3ms/step - loss: 0.5970 - accuracy: 0.6848 - val_loss: 0.6360 - val_accuracy: 0.7244\n",
      "Epoch 21/30\n",
      "17/17 [==============================] - 0s 3ms/step - loss: 0.5779 - accuracy: 0.7121 - val_loss: 0.6009 - val_accuracy: 0.6890\n",
      "Epoch 22/30\n",
      "17/17 [==============================] - 0s 3ms/step - loss: 0.5586 - accuracy: 0.7140 - val_loss: 0.6523 - val_accuracy: 0.6811\n",
      "Epoch 23/30\n",
      "17/17 [==============================] - 0s 3ms/step - loss: 0.5915 - accuracy: 0.7023 - val_loss: 0.5981 - val_accuracy: 0.6969\n",
      "Epoch 24/30\n",
      "17/17 [==============================] - 0s 3ms/step - loss: 0.5763 - accuracy: 0.7140 - val_loss: 0.6374 - val_accuracy: 0.6614\n",
      "Epoch 25/30\n",
      "17/17 [==============================] - 0s 3ms/step - loss: 0.6135 - accuracy: 0.7179 - val_loss: 0.6646 - val_accuracy: 0.6772\n",
      "Epoch 26/30\n",
      "17/17 [==============================] - 0s 3ms/step - loss: 0.5908 - accuracy: 0.7023 - val_loss: 0.6349 - val_accuracy: 0.7087\n",
      "Epoch 27/30\n",
      "17/17 [==============================] - 0s 3ms/step - loss: 0.5505 - accuracy: 0.7140 - val_loss: 0.6317 - val_accuracy: 0.7244\n",
      "Epoch 28/30\n",
      "17/17 [==============================] - 0s 3ms/step - loss: 0.5537 - accuracy: 0.7257 - val_loss: 0.6867 - val_accuracy: 0.7008\n",
      "Epoch 29/30\n",
      "17/17 [==============================] - 0s 3ms/step - loss: 0.5945 - accuracy: 0.7121 - val_loss: 0.5908 - val_accuracy: 0.7047\n",
      "Epoch 30/30\n",
      "17/17 [==============================] - 0s 3ms/step - loss: 0.5275 - accuracy: 0.7296 - val_loss: 0.5935 - val_accuracy: 0.6850\n"
     ]
    }
   ],
   "source": [
    "history = model.fit(\n",
    "    X_train.values, \n",
    "    y_train.values, \n",
    "    epochs=30, \n",
    "    batch_size=32,\n",
    "    validation_data=(\n",
    "        X_test.values,\n",
    "        y_test.values\n",
    "    )\n",
    ")"
   ]
  },
  {
   "cell_type": "code",
   "execution_count": 10,
   "id": "12eb4807-4def-4224-bcd4-b13d29d738a9",
   "metadata": {
    "tags": []
   },
   "outputs": [
    {
     "data": {
      "image/png": "[encoded data removed]",
      "text/plain": [
       "<Figure size 640x480 with 1 Axes>"
      ]
     },
     "metadata": {},
     "output_type": "display_data"
    }
   ],
   "source": [
    "from matplotlib import pyplot as plt\n",
    "plt.plot(history.history['accuracy'])\n",
    "plt.plot(history.history['val_accuracy'])\n",
    "plt.title('model accuracy')\n",
    "plt.ylabel('accuracy')\n",
    "plt.xlabel('epoch')\n",
    "plt.legend(['train', 'val'], loc='upper left')\n",
    "plt.show()"
   ]
  },
  {
   "cell_type": "code",
   "execution_count": 11,
   "id": "2a93d38a-465d-4d5c-8b36-5b60a3bc632a",
   "metadata": {
    "tags": []
   },
   "outputs": [
    {
     "data": {
      "image/png": "[encoded data removed]",
      "text/plain": [
       "<Figure size 640x480 with 1 Axes>"
      ]
     },
     "metadata": {},
     "output_type": "display_data"
    }
   ],
   "source": [
    "from matplotlib import pyplot as plt\n",
    "plt.plot(history.history['loss'])\n",
    "plt.plot(history.history['val_loss'])\n",
    "plt.title('model loss')\n",
    "plt.ylabel('loss')\n",
    "plt.xlabel('epoch')\n",
    "plt.legend(['train', 'val'], loc='upper left')\n",
    "plt.show()"
   ]
  },
  {
   "cell_type": "code",
   "execution_count": 12,
   "id": "1925e1c2-a735-4385-8874-454821ea72ed",
   "metadata": {
    "tags": []
   },
   "outputs": [],
   "source": [
    "# PYTORCH START HERE"
   ]
  },
  {
   "cell_type": "code",
   "execution_count": 29,
   "id": "b8c60ac7-9524-4a6c-83d6-781eb2b11865",
   "metadata": {
    "tags": []
   },
   "outputs": [
    {
     "data": {
      "text/plain": [
       "tensor([[2.4494]], grad_fn=<AddmmBackward0>)"
      ]
     },
     "execution_count": 29,
     "metadata": {},
     "output_type": "execute_result"
    }
   ],
   "source": [
    "model_pt = nn.Sequential(\n",
    "    nn.Linear(7, 64),\n",
    "    nn.ReLU(),\n",
    "    nn.Linear(64, 32),\n",
    "    nn.ReLU(),\n",
    "    nn.Linear(32, 16),\n",
    "    nn.ReLU(),\n",
    "    nn.Linear(16,1),\n",
    ")\n",
    "\n",
    "model_pt(torch.tensor(X[:1].values, dtype=torch.float32))"
   ]
  },
  {
   "cell_type": "code",
   "execution_count": 30,
   "id": "e00a22b1-1f08-49e1-b43e-fbaab0fd379c",
   "metadata": {
    "tags": []
   },
   "outputs": [],
   "source": [
    "optim = torch.optim.Adam(model_pt.parameters(), lr=1e-3)\n",
    "\n",
    "m = nn.Sigmoid()\n",
    "flat = nn.Flatten(start_dim=0)\n",
    "loss = nn.BCELoss()\n",
    "\n",
    "accuracy = torchmetrics.Accuracy(task=\"binary\")"
   ]
  },
  {
   "cell_type": "code",
   "execution_count": 31,
   "id": "709475ef-e37a-48c9-b99a-6683fb51316d",
   "metadata": {
    "tags": []
   },
   "outputs": [],
   "source": [
    "dataset = torch.utils.data.TensorDataset(\n",
    "    torch.tensor(X_train.values, dtype=torch.float32), \n",
    "    torch.tensor(y_train.values, dtype=torch.float32)\n",
    ")\n",
    "\n",
    "dataset_test = torch.utils.data.TensorDataset(\n",
    "    torch.tensor(X_test.values, dtype=torch.float32), \n",
    "    torch.tensor(y_test.values, dtype=torch.float32)\n",
    ")\n",
    "\n",
    "\n",
    "loader_train = torch.utils.data.DataLoader(dataset, batch_size=32)\n",
    "loader_test = torch.utils.data.DataLoader(dataset_test, batch_size=32)"
   ]
  },
  {
   "cell_type": "code",
   "execution_count": 32,
   "id": "b1f293fb-5afe-436c-a94b-a77025e3ee75",
   "metadata": {
    "tags": []
   },
   "outputs": [
    {
     "name": "stdout",
     "output_type": "stream",
     "text": [
      "Epoch: 1\n",
      "loss_train 0.7604705480968251\n",
      "acc_train 0.5753676470588235\n",
      "loss_test 0.6524028703570366\n",
      "acc_test 0.6375000029802322\n",
      "Epoch: 2\n",
      "loss_train 0.6282562052502352\n",
      "acc_train 0.6580882352941176\n",
      "loss_test 0.6281062513589859\n",
      "acc_test 0.6736979186534882\n",
      "Epoch: 3\n",
      "loss_train 0.6018420282532188\n",
      "acc_train 0.6966911764705882\n",
      "loss_test 0.6105195060372353\n",
      "acc_test 0.6692708358168602\n",
      "Epoch: 4\n",
      "loss_train 0.5871317246380974\n",
      "acc_train 0.6783088235294118\n",
      "loss_test 0.6172984018921852\n",
      "acc_test 0.6893229186534882\n",
      "Epoch: 5\n",
      "loss_train 0.585747934439603\n",
      "acc_train 0.6966911764705882\n",
      "loss_test 0.6183296889066696\n",
      "acc_test 0.6893229186534882\n",
      "Epoch: 6\n",
      "loss_train 0.5743657490786385\n",
      "acc_train 0.7058823529411765\n",
      "loss_test 0.6200241521000862\n",
      "acc_test 0.6854166686534882\n",
      "Epoch: 7\n",
      "loss_train 0.565571888404734\n",
      "acc_train 0.7132352941176471\n",
      "loss_test 0.6151823922991753\n",
      "acc_test 0.7013020813465118\n",
      "Epoch: 8\n",
      "loss_train 0.5604720290969399\n",
      "acc_train 0.7205882352941176\n",
      "loss_test 0.6134929731488228\n",
      "acc_test 0.6973958313465118\n",
      "Epoch: 9\n",
      "loss_train 0.5566734619000379\n",
      "acc_train 0.7242647058823529\n",
      "loss_test 0.6096625253558159\n",
      "acc_test 0.7013020813465118\n",
      "Epoch: 10\n",
      "loss_train 0.5521452786291347\n",
      "acc_train 0.7242647058823529\n",
      "loss_test 0.6092062145471573\n",
      "acc_test 0.6973958313465118\n",
      "Epoch: 11\n",
      "loss_train 0.5504812475513009\n",
      "acc_train 0.7242647058823529\n",
      "loss_test 0.6075416207313538\n",
      "acc_test 0.6934895813465118\n",
      "Epoch: 12\n",
      "loss_train 0.546917100163067\n",
      "acc_train 0.7224264705882353\n",
      "loss_test 0.6039786636829376\n",
      "acc_test 0.6973958313465118\n",
      "Epoch: 13\n",
      "loss_train 0.544076135929893\n",
      "acc_train 0.71875\n",
      "loss_test 0.6028576567769051\n",
      "acc_test 0.7013020813465118\n",
      "Epoch: 14\n",
      "loss_train 0.5405362844467163\n",
      "acc_train 0.7205882352941176\n",
      "loss_test 0.6004929393529892\n",
      "acc_test 0.7013020813465118\n",
      "Epoch: 15\n",
      "loss_train 0.5375794461544823\n",
      "acc_train 0.7224264705882353\n",
      "loss_test 0.5980295538902283\n",
      "acc_test 0.6973958313465118\n",
      "Epoch: 16\n",
      "loss_train 0.5326526875005049\n",
      "acc_train 0.7334558823529411\n",
      "loss_test 0.5984673723578453\n",
      "acc_test 0.6973958313465118\n",
      "Epoch: 17\n",
      "loss_train 0.5308195720700657\n",
      "acc_train 0.7261029411764706\n",
      "loss_test 0.5969729945063591\n",
      "acc_test 0.7052083313465118\n",
      "Epoch: 18\n",
      "loss_train 0.5294346029267591\n",
      "acc_train 0.7242647058823529\n",
      "loss_test 0.5946931838989258\n",
      "acc_test 0.7091145813465118\n",
      "Epoch: 19\n",
      "loss_train 0.528902002993752\n",
      "acc_train 0.7261029411764706\n",
      "loss_test 0.5945703983306885\n",
      "acc_test 0.7169270813465118\n",
      "Epoch: 20\n",
      "loss_train 0.5263567172429141\n",
      "acc_train 0.7279411764705882\n",
      "loss_test 0.5932202339172363\n",
      "acc_test 0.6973958313465118\n",
      "Epoch: 21\n",
      "loss_train 0.5201100987546584\n",
      "acc_train 0.7297794117647058\n",
      "loss_test 0.592613197863102\n",
      "acc_test 0.7013020813465118\n",
      "Epoch: 22\n",
      "loss_train 0.5173682666876737\n",
      "acc_train 0.7352941176470589\n",
      "loss_test 0.5937680676579475\n",
      "acc_test 0.7013020813465118\n",
      "Epoch: 23\n",
      "loss_train 0.5131809001459795\n",
      "acc_train 0.7371323529411765\n",
      "loss_test 0.5949755609035492\n",
      "acc_test 0.7052083313465118\n",
      "Epoch: 24\n",
      "loss_train 0.5107351475778747\n",
      "acc_train 0.7316176470588235\n",
      "loss_test 0.5951341018080711\n",
      "acc_test 0.6973958313465118\n",
      "Epoch: 25\n",
      "loss_train 0.5118159090771395\n",
      "acc_train 0.7389705882352942\n",
      "loss_test 0.5978257730603218\n",
      "acc_test 0.6895833313465118\n",
      "Epoch: 26\n",
      "loss_train 0.5082285158774432\n",
      "acc_train 0.7408088235294118\n",
      "loss_test 0.5954784080386162\n",
      "acc_test 0.6976562514901161\n",
      "Epoch: 27\n",
      "loss_train 0.5067917104153072\n",
      "acc_train 0.7426470588235294\n",
      "loss_test 0.6012731119990349\n",
      "acc_test 0.6937500014901161\n",
      "Epoch: 28\n",
      "loss_train 0.5036625809529248\n",
      "acc_train 0.7444852941176471\n",
      "loss_test 0.5974533073604107\n",
      "acc_test 0.6976562514901161\n",
      "Epoch: 29\n",
      "loss_train 0.502828477498363\n",
      "acc_train 0.7426470588235294\n",
      "loss_test 0.6019031926989555\n",
      "acc_test 0.6895833313465118\n",
      "Epoch: 30\n",
      "loss_train 0.5031516280244378\n",
      "acc_train 0.7389705882352942\n",
      "loss_test 0.6045448146760464\n",
      "acc_test 0.6976562514901161\n"
     ]
    }
   ],
   "source": [
    "epoch = 30\n",
    "\n",
    "history = {\n",
    "    \"loss_train\": [],\n",
    "    \"acc_train\": [],\n",
    "    \"loss_test\":[],\n",
    "    \"acc_test\":[]\n",
    "}\n",
    "\n",
    "for i in range(epoch):\n",
    "    print(f\"Epoch: {i + 1}\")\n",
    "    \n",
    "    # Train\n",
    "    model_pt.train()\n",
    "    loss_history_batch = []\n",
    "    accuracy_history_batch = []\n",
    "    for x, y in loader_train:\n",
    "        optim.zero_grad()\n",
    "        logits = model_pt(x)\n",
    "        loss_val = loss(flat(m(logits)), y)\n",
    "        loss_val.backward()\n",
    "        optim.step()\n",
    "        \n",
    "        # Logging\n",
    "        loss_item = loss_val.detach().item()\n",
    "        loss_history_batch.append(loss_item)\n",
    "        \n",
    "        acc_item = accuracy(logits.reshape(-1), y).detach().item()\n",
    "        accuracy_history_batch.append(acc_item)\n",
    "    print(\"loss_train\",np.average(np.array(loss_history_batch)))\n",
    "    print(\"acc_train\",np.average(np.array(accuracy_history_batch)))\n",
    "    history[\"loss_train\"].append(np.average(np.array(loss_history_batch)))\n",
    "    history[\"acc_train\"].append(np.average(np.array(accuracy_history_batch)))\n",
    "        \n",
    "    \n",
    "    # Test\n",
    "    model_pt.eval()\n",
    "    loss_history_batch = []\n",
    "    accuracy_history_batch = []\n",
    "    with torch.no_grad():\n",
    "        for x, y in loader_test:\n",
    "            logits = model_pt(x)\n",
    "            loss_val = loss(flat(m(logits)), y)\n",
    "            \n",
    "            # Logging\n",
    "            loss_item = loss_val.detach().item()\n",
    "            loss_history_batch.append(loss_item)\n",
    "            \n",
    "            acc_item = accuracy(logits.reshape(-1), y).detach().item()\n",
    "            accuracy_history_batch.append(acc_item)\n",
    "            \n",
    "    print(\"loss_test\",np.average(np.array(loss_history_batch)))\n",
    "    print(\"acc_test\",np.average(np.array(accuracy_history_batch)))\n",
    "    history[\"loss_test\"].append(np.average(np.array(loss_history_batch)))\n",
    "    history[\"acc_test\"].append(np.average(np.array(accuracy_history_batch)))\n",
    "    "
   ]
  },
  {
   "cell_type": "code",
   "execution_count": 33,
   "id": "aacacb36-6dfd-499e-a6ab-4a75c06d83a4",
   "metadata": {
    "tags": []
   },
   "outputs": [
    {
     "data": {
      "image/png": "[encoded data removed]",
      "text/plain": [
       "<Figure size 640x480 with 1 Axes>"
      ]
     },
     "metadata": {},
     "output_type": "display_data"
    }
   ],
   "source": [
    "from matplotlib import pyplot as plt\n",
    "plt.plot(history['acc_train'])\n",
    "plt.plot(history['acc_test'])\n",
    "plt.title('model accuracy')\n",
    "plt.ylabel('accuracy')\n",
    "plt.xlabel('epoch')\n",
    "plt.legend(['train', 'val'], loc='upper left')\n",
    "plt.show()"
   ]
  },
  {
   "cell_type": "code",
   "execution_count": 34,
   "id": "d36eed65-367b-4b88-b260-129eb10d33fd",
   "metadata": {
    "tags": []
   },
   "outputs": [
    {
     "data": {
      "image/png": "[encoded data removed]",
      "text/plain": [
       "<Figure size 640x480 with 1 Axes>"
      ]
     },
     "metadata": {},
     "output_type": "display_data"
    }
   ],
   "source": [
    "from matplotlib import pyplot as plt\n",
    "plt.plot(history['loss_train'])\n",
    "plt.plot(history['loss_test'])\n",
    "plt.title('model accuracy')\n",
    "plt.ylabel('loss')\n",
    "plt.xlabel('epoch')\n",
    "plt.legend(['train', 'val'], loc='upper left')\n",
    "plt.show()"
   ]
  },
  {
   "cell_type": "code",
   "execution_count": 19,
   "id": "5740f7b4-94ef-472a-8f93-c5023e4bac8c",
   "metadata": {
    "tags": []
   },
   "outputs": [],
   "source": [
    "# WITH PYTORCH LIGHTNING HERE!"
   ]
  },
  {
   "cell_type": "code",
   "execution_count": 20,
   "id": "f6b1217a-cba5-4c92-8913-9ae75e41c31b",
   "metadata": {
    "tags": []
   },
   "outputs": [],
   "source": [
    "import lightning.pytorch as pl"
   ]
  },
  {
   "cell_type": "code",
   "execution_count": 46,
   "id": "5e2437db-1039-4ffc-88e5-3730fdfa3e85",
   "metadata": {
    "tags": []
   },
   "outputs": [],
   "source": [
    "# define the LightningModule\n",
    "class LitAutoEncoder(pl.LightningModule):\n",
    "    def __init__(self):\n",
    "        super().__init__()\n",
    "        self.classifer = nn.Sequential(\n",
    "            nn.Linear(7, 64),\n",
    "            nn.ReLU(),\n",
    "            nn.Linear(64, 32),\n",
    "            nn.ReLU(),\n",
    "            nn.Linear(32, 16),\n",
    "            nn.ReLU(),\n",
    "            nn.Linear(16,1),\n",
    "        )\n",
    "        \n",
    "        self.accuracy = torchmetrics.Accuracy(task=\"binary\")\n",
    "\n",
    "    def training_step(self, batch, batch_idx):\n",
    "        # training_step defines the train loop.\n",
    "        # it is independent of forward\n",
    "        x, y = batch\n",
    "        logits = model_pt(x)\n",
    "        loss_val = F.binary_cross_entropy_with_logits(logits.reshape(-1), y)\n",
    "        self.log(\"train_loss\", loss_val, prog_bar=True)\n",
    "        \n",
    "        accuracy = self.accuracy(logits.reshape(-1), y)\n",
    "        self.log(\"train_acc\", accuracy, prog_bar=True)\n",
    "        return loss_val\n",
    "\n",
    "    def validation_step(self, batch, batch_idx):\n",
    "        # training_step defines the train loop.\n",
    "        # it is independent of forward\n",
    "        x, y = batch\n",
    "        logits = model_pt(x)\n",
    "        loss_val = F.binary_cross_entropy_with_logits(logits.reshape(-1), y)\n",
    "        self.log(\"val_loss\", loss_val, prog_bar=True)\n",
    "        \n",
    "        accuracy = self.accuracy(logits.reshape(-1), y)\n",
    "        self.log(\"val_acc\", accuracy, prog_bar=True)\n",
    "        \n",
    "    def on_train_epoch_end(self):\n",
    "        # log epoch metric\n",
    "        self.log('train_acc_epoch', self.accuracy, prog_bar=True)\n",
    "\n",
    "    def configure_optimizers(self):\n",
    "        optim = torch.optim.Adam(self.parameters(), lr=1e-3)\n",
    "        return optim"
   ]
  },
  {
   "cell_type": "code",
   "execution_count": 47,
   "id": "62574071-0a59-4b9e-bf4c-52c3728b790f",
   "metadata": {
    "tags": []
   },
   "outputs": [
    {
     "name": "stderr",
     "output_type": "stream",
     "text": [
      "GPU available: False, used: False\n",
      "TPU available: False, using: 0 TPU cores\n",
      "IPU available: False, using: 0 IPUs\n",
      "HPU available: False, using: 0 HPUs\n",
      "\n",
      "  | Name      | Type           | Params\n",
      "---------------------------------------------\n",
      "0 | classifer | Sequential     | 3.1 K \n",
      "1 | accuracy  | BinaryAccuracy | 0     \n",
      "---------------------------------------------\n",
      "3.1 K     Trainable params\n",
      "0         Non-trainable params\n",
      "3.1 K     Total params\n",
      "0.013     Total estimated model params size (MB)\n"
     ]
    },
    {
     "data": {
      "application/vnd.jupyter.widget-view+json": {
       "model_id": "",
       "version_major": 2,
       "version_minor": 0
      },
      "text/plain": [
       "Sanity Checking: 0it [00:00, ?it/s]"
      ]
     },
     "metadata": {},
     "output_type": "display_data"
    },
    {
     "data": {
      "application/vnd.jupyter.widget-view+json": {
       "model_id": "0985566dc6e2433384d4b214a761918c",
       "version_major": 2,
       "version_minor": 0
      },
      "text/plain": [
       "Training: 0it [00:00, ?it/s]"
      ]
     },
     "metadata": {},
     "output_type": "display_data"
    },
    {
     "data": {
      "application/vnd.jupyter.widget-view+json": {
       "model_id": "",
       "version_major": 2,
       "version_minor": 0
      },
      "text/plain": [
       "Validation: 0it [00:00, ?it/s]"
      ]
     },
     "metadata": {},
     "output_type": "display_data"
    },
    {
     "data": {
      "application/vnd.jupyter.widget-view+json": {
       "model_id": "",
       "version_major": 2,
       "version_minor": 0
      },
      "text/plain": [
       "Validation: 0it [00:00, ?it/s]"
      ]
     },
     "metadata": {},
     "output_type": "display_data"
    },
    {
     "data": {
      "application/vnd.jupyter.widget-view+json": {
       "model_id": "",
       "version_major": 2,
       "version_minor": 0
      },
      "text/plain": [
       "Validation: 0it [00:00, ?it/s]"
      ]
     },
     "metadata": {},
     "output_type": "display_data"
    },
    {
     "data": {
      "application/vnd.jupyter.widget-view+json": {
       "model_id": "",
       "version_major": 2,
       "version_minor": 0
      },
      "text/plain": [
       "Validation: 0it [00:00, ?it/s]"
      ]
     },
     "metadata": {},
     "output_type": "display_data"
    },
    {
     "data": {
      "application/vnd.jupyter.widget-view+json": {
       "model_id": "",
       "version_major": 2,
       "version_minor": 0
      },
      "text/plain": [
       "Validation: 0it [00:00, ?it/s]"
      ]
     },
     "metadata": {},
     "output_type": "display_data"
    },
    {
     "data": {
      "application/vnd.jupyter.widget-view+json": {
       "model_id": "",
       "version_major": 2,
       "version_minor": 0
      },
      "text/plain": [
       "Validation: 0it [00:00, ?it/s]"
      ]
     },
     "metadata": {},
     "output_type": "display_data"
    },
    {
     "data": {
      "application/vnd.jupyter.widget-view+json": {
       "model_id": "",
       "version_major": 2,
       "version_minor": 0
      },
      "text/plain": [
       "Validation: 0it [00:00, ?it/s]"
      ]
     },
     "metadata": {},
     "output_type": "display_data"
    },
    {
     "data": {
      "application/vnd.jupyter.widget-view+json": {
       "model_id": "",
       "version_major": 2,
       "version_minor": 0
      },
      "text/plain": [
       "Validation: 0it [00:00, ?it/s]"
      ]
     },
     "metadata": {},
     "output_type": "display_data"
    },
    {
     "data": {
      "application/vnd.jupyter.widget-view+json": {
       "model_id": "",
       "version_major": 2,
       "version_minor": 0
      },
      "text/plain": [
       "Validation: 0it [00:00, ?it/s]"
      ]
     },
     "metadata": {},
     "output_type": "display_data"
    },
    {
     "data": {
      "application/vnd.jupyter.widget-view+json": {
       "model_id": "",
       "version_major": 2,
       "version_minor": 0
      },
      "text/plain": [
       "Validation: 0it [00:00, ?it/s]"
      ]
     },
     "metadata": {},
     "output_type": "display_data"
    },
    {
     "data": {
      "application/vnd.jupyter.widget-view+json": {
       "model_id": "",
       "version_major": 2,
       "version_minor": 0
      },
      "text/plain": [
       "Validation: 0it [00:00, ?it/s]"
      ]
     },
     "metadata": {},
     "output_type": "display_data"
    },
    {
     "data": {
      "application/vnd.jupyter.widget-view+json": {
       "model_id": "",
       "version_major": 2,
       "version_minor": 0
      },
      "text/plain": [
       "Validation: 0it [00:00, ?it/s]"
      ]
     },
     "metadata": {},
     "output_type": "display_data"
    },
    {
     "data": {
      "application/vnd.jupyter.widget-view+json": {
       "model_id": "",
       "version_major": 2,
       "version_minor": 0
      },
      "text/plain": [
       "Validation: 0it [00:00, ?it/s]"
      ]
     },
     "metadata": {},
     "output_type": "display_data"
    },
    {
     "data": {
      "application/vnd.jupyter.widget-view+json": {
       "model_id": "",
       "version_major": 2,
       "version_minor": 0
      },
      "text/plain": [
       "Validation: 0it [00:00, ?it/s]"
      ]
     },
     "metadata": {},
     "output_type": "display_data"
    },
    {
     "data": {
      "application/vnd.jupyter.widget-view+json": {
       "model_id": "",
       "version_major": 2,
       "version_minor": 0
      },
      "text/plain": [
       "Validation: 0it [00:00, ?it/s]"
      ]
     },
     "metadata": {},
     "output_type": "display_data"
    },
    {
     "data": {
      "application/vnd.jupyter.widget-view+json": {
       "model_id": "",
       "version_major": 2,
       "version_minor": 0
      },
      "text/plain": [
       "Validation: 0it [00:00, ?it/s]"
      ]
     },
     "metadata": {},
     "output_type": "display_data"
    },
    {
     "data": {
      "application/vnd.jupyter.widget-view+json": {
       "model_id": "",
       "version_major": 2,
       "version_minor": 0
      },
      "text/plain": [
       "Validation: 0it [00:00, ?it/s]"
      ]
     },
     "metadata": {},
     "output_type": "display_data"
    },
    {
     "data": {
      "application/vnd.jupyter.widget-view+json": {
       "model_id": "",
       "version_major": 2,
       "version_minor": 0
      },
      "text/plain": [
       "Validation: 0it [00:00, ?it/s]"
      ]
     },
     "metadata": {},
     "output_type": "display_data"
    },
    {
     "data": {
      "application/vnd.jupyter.widget-view+json": {
       "model_id": "",
       "version_major": 2,
       "version_minor": 0
      },
      "text/plain": [
       "Validation: 0it [00:00, ?it/s]"
      ]
     },
     "metadata": {},
     "output_type": "display_data"
    },
    {
     "data": {
      "application/vnd.jupyter.widget-view+json": {
       "model_id": "",
       "version_major": 2,
       "version_minor": 0
      },
      "text/plain": [
       "Validation: 0it [00:00, ?it/s]"
      ]
     },
     "metadata": {},
     "output_type": "display_data"
    },
    {
     "data": {
      "application/vnd.jupyter.widget-view+json": {
       "model_id": "",
       "version_major": 2,
       "version_minor": 0
      },
      "text/plain": [
       "Validation: 0it [00:00, ?it/s]"
      ]
     },
     "metadata": {},
     "output_type": "display_data"
    },
    {
     "data": {
      "application/vnd.jupyter.widget-view+json": {
       "model_id": "",
       "version_major": 2,
       "version_minor": 0
      },
      "text/plain": [
       "Validation: 0it [00:00, ?it/s]"
      ]
     },
     "metadata": {},
     "output_type": "display_data"
    },
    {
     "data": {
      "application/vnd.jupyter.widget-view+json": {
       "model_id": "",
       "version_major": 2,
       "version_minor": 0
      },
      "text/plain": [
       "Validation: 0it [00:00, ?it/s]"
      ]
     },
     "metadata": {},
     "output_type": "display_data"
    },
    {
     "data": {
      "application/vnd.jupyter.widget-view+json": {
       "model_id": "",
       "version_major": 2,
       "version_minor": 0
      },
      "text/plain": [
       "Validation: 0it [00:00, ?it/s]"
      ]
     },
     "metadata": {},
     "output_type": "display_data"
    },
    {
     "data": {
      "application/vnd.jupyter.widget-view+json": {
       "model_id": "",
       "version_major": 2,
       "version_minor": 0
      },
      "text/plain": [
       "Validation: 0it [00:00, ?it/s]"
      ]
     },
     "metadata": {},
     "output_type": "display_data"
    },
    {
     "data": {
      "application/vnd.jupyter.widget-view+json": {
       "model_id": "",
       "version_major": 2,
       "version_minor": 0
      },
      "text/plain": [
       "Validation: 0it [00:00, ?it/s]"
      ]
     },
     "metadata": {},
     "output_type": "display_data"
    },
    {
     "data": {
      "application/vnd.jupyter.widget-view+json": {
       "model_id": "",
       "version_major": 2,
       "version_minor": 0
      },
      "text/plain": [
       "Validation: 0it [00:00, ?it/s]"
      ]
     },
     "metadata": {},
     "output_type": "display_data"
    },
    {
     "data": {
      "application/vnd.jupyter.widget-view+json": {
       "model_id": "",
       "version_major": 2,
       "version_minor": 0
      },
      "text/plain": [
       "Validation: 0it [00:00, ?it/s]"
      ]
     },
     "metadata": {},
     "output_type": "display_data"
    },
    {
     "data": {
      "application/vnd.jupyter.widget-view+json": {
       "model_id": "",
       "version_major": 2,
       "version_minor": 0
      },
      "text/plain": [
       "Validation: 0it [00:00, ?it/s]"
      ]
     },
     "metadata": {},
     "output_type": "display_data"
    },
    {
     "data": {
      "application/vnd.jupyter.widget-view+json": {
       "model_id": "",
       "version_major": 2,
       "version_minor": 0
      },
      "text/plain": [
       "Validation: 0it [00:00, ?it/s]"
      ]
     },
     "metadata": {},
     "output_type": "display_data"
    },
    {
     "name": "stderr",
     "output_type": "stream",
     "text": [
      "`Trainer.fit` stopped: `max_epochs=30` reached.\n"
     ]
    }
   ],
   "source": [
    "trainer = pl.Trainer(max_epochs=30)\n",
    "trainer.fit(model=LitAutoEncoder(), train_dataloaders=loader_train, val_dataloaders=loader_test)"
   ]
  }
 ],
 "metadata": {
  "kernelspec": {
   "display_name": "Python 3 (ipykernel)",
   "language": "python",
   "name": "python3"
  },
  "language_info": {
   "codemirror_mode": {
    "name": "ipython",
    "version": 3
   },
   "file_extension": ".py",
   "mimetype": "text/x-python",
   "name": "python",
   "nbconvert_exporter": "python",
   "pygments_lexer": "ipython3",
   "version": "3.8.10"
  }
 },
 "nbformat": 4,
 "nbformat_minor": 5
}
